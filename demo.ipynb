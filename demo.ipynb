{
 "cells": [
  {
   "cell_type": "markdown",
   "id": "9709c642",
   "metadata": {},
   "source": [
    "## DeepEntropyScaling Model Demo\n",
    "\n",
    "In this notebook we show how easy it is to use the DeepEntropyScaling model.\n",
    "Please install PyTorch and the feos package first.\n",
    "\n",
    "The example chosen is butanol. Butanol was not included in the model's training data. The model results are therefore pure predictions. Viscosities of alcohols are difficult to predict. In addition, the data in the entropy room is very noisy. Predictions with around or less than 10% MEAD from experimental data are considered remarkable. \n",
    "\n",
    "![plots/example_sub.png](plots/example_sub.png)\n",
    "\n",
    "The entropy subspace of alcohols is very noisy. Around 8% errors occur when all available data is translated into the subspace, a polynomial is fitted and translated back. It is a kind of expected translation loss. Therefore, errors below 8% are not to be expected for butanol (without targeted training in a limited pressure range).\n",
    "\n",
    "The experimental references are freely available DDB data."
   ]
  },
  {
   "cell_type": "code",
   "execution_count": 1,
   "id": "e6bb5815",
   "metadata": {},
   "outputs": [],
   "source": [
    "import pandas as pd\n",
    "import numpy as np\n",
    "import matplotlib.pyplot as plt\n",
    "import json, toml\n",
    "\n",
    "from deep_entropy_scaling.deep_entropy_scaling import *\n"
   ]
  },
  {
   "cell_type": "markdown",
   "id": "24f7c47d",
   "metadata": {},
   "source": [
    "### Load PC-SAFT parameters\n",
    "\n",
    "At first we load the PC-SAFT parameters. The model is optimized using two parameter sets from Esper and Winter. The parameters in these data sets are very similar and follow an internal logic. We recommend relying on parameters from those datasets or parameters that are obtained using the same rules. Especially when parameters are only optimised for one species, they can degenerate. Such parameters do not represent the underlying species properly and are not suited for predictions."
   ]
  },
  {
   "cell_type": "code",
   "execution_count": 2,
   "id": "abefad51",
   "metadata": {},
   "outputs": [
    {
     "data": {
      "text/html": [
       "<div>\n",
       "<style scoped>\n",
       "    .dataframe tbody tr th:only-of-type {\n",
       "        vertical-align: middle;\n",
       "    }\n",
       "\n",
       "    .dataframe tbody tr th {\n",
       "        vertical-align: top;\n",
       "    }\n",
       "\n",
       "    .dataframe thead th {\n",
       "        text-align: right;\n",
       "    }\n",
       "</style>\n",
       "<table border=\"1\" class=\"dataframe\">\n",
       "  <thead>\n",
       "    <tr style=\"text-align: right;\">\n",
       "      <th></th>\n",
       "      <th>names</th>\n",
       "      <th>molarweight</th>\n",
       "      <th>m</th>\n",
       "      <th>sigma</th>\n",
       "      <th>epsilon_k</th>\n",
       "      <th>mu</th>\n",
       "      <th>kappa_ab</th>\n",
       "      <th>epsilon_k_ab</th>\n",
       "      <th>isomeric_smiles</th>\n",
       "    </tr>\n",
       "  </thead>\n",
       "  <tbody>\n",
       "    <tr>\n",
       "      <th>0</th>\n",
       "      <td>butan-1-ol</td>\n",
       "      <td>74.073</td>\n",
       "      <td>3.140383</td>\n",
       "      <td>3.432248</td>\n",
       "      <td>256.079712</td>\n",
       "      <td>0</td>\n",
       "      <td>0.004223</td>\n",
       "      <td>2444.189697</td>\n",
       "      <td>CCCCO</td>\n",
       "    </tr>\n",
       "  </tbody>\n",
       "</table>\n",
       "</div>"
      ],
      "text/plain": [
       "        names  molarweight         m     sigma   epsilon_k  mu  kappa_ab  \\\n",
       "0  butan-1-ol       74.073  3.140383  3.432248  256.079712   0  0.004223   \n",
       "\n",
       "   epsilon_k_ab isomeric_smiles  \n",
       "0   2444.189697           CCCCO  "
      ]
     },
     "execution_count": 2,
     "metadata": {},
     "output_type": "execute_result"
    }
   ],
   "source": [
    "saft = pd.read_csv( \"demo_data/saft_paras_demo.csv\" )\n",
    "saft"
   ]
  },
  {
   "cell_type": "markdown",
   "id": "8bed8a9f",
   "metadata": {},
   "source": [
    "### Load data\n",
    "\n",
    "Now we can load the data we want to predict viscosities for. We assume SI units i.e. temperature in K and pressure in Pascal. Furthermore we recommend to add state information about what phase a state point belongs to. Here all datapoints are in the liquid phase.\n",
    "\n",
    "After loading the data we assign PC-SAFT parameters to every sample."
   ]
  },
  {
   "cell_type": "code",
   "execution_count": 3,
   "id": "5a3eb024",
   "metadata": {},
   "outputs": [
    {
     "data": {
      "text/html": [
       "<div>\n",
       "<style scoped>\n",
       "    .dataframe tbody tr th:only-of-type {\n",
       "        vertical-align: middle;\n",
       "    }\n",
       "\n",
       "    .dataframe tbody tr th {\n",
       "        vertical-align: top;\n",
       "    }\n",
       "\n",
       "    .dataframe thead th {\n",
       "        text-align: right;\n",
       "    }\n",
       "</style>\n",
       "<table border=\"1\" class=\"dataframe\">\n",
       "  <thead>\n",
       "    <tr style=\"text-align: right;\">\n",
       "      <th></th>\n",
       "      <th>temperature</th>\n",
       "      <th>pressure</th>\n",
       "      <th>viscosity</th>\n",
       "      <th>state</th>\n",
       "      <th>Reference</th>\n",
       "      <th>density</th>\n",
       "      <th>names</th>\n",
       "      <th>molarweight</th>\n",
       "      <th>m</th>\n",
       "      <th>sigma</th>\n",
       "      <th>epsilon_k</th>\n",
       "      <th>kappa_ab</th>\n",
       "      <th>epsilon_k_ab</th>\n",
       "      <th>mu</th>\n",
       "      <th>resd_entropy</th>\n",
       "      <th>molar_density</th>\n",
       "      <th>red_temperature</th>\n",
       "      <th>red_density</th>\n",
       "      <th>ln_eta_ref_new</th>\n",
       "    </tr>\n",
       "  </thead>\n",
       "  <tbody>\n",
       "    <tr>\n",
       "      <th>0</th>\n",
       "      <td>203.15</td>\n",
       "      <td>100</td>\n",
       "      <td>109.00</td>\n",
       "      <td>liquid</td>\n",
       "      <td>3</td>\n",
       "      <td>NaN</td>\n",
       "      <td>butan-1-ol</td>\n",
       "      <td>74.073</td>\n",
       "      <td>3.140383</td>\n",
       "      <td>3.432248</td>\n",
       "      <td>256.079712</td>\n",
       "      <td>0.004223</td>\n",
       "      <td>2444.189697</td>\n",
       "      <td>0</td>\n",
       "      <td>5.159781</td>\n",
       "      <td>11928.820963</td>\n",
       "      <td>0.793308</td>\n",
       "      <td>0.290459</td>\n",
       "      <td>-12.221706</td>\n",
       "    </tr>\n",
       "    <tr>\n",
       "      <th>1</th>\n",
       "      <td>203.15</td>\n",
       "      <td>5000</td>\n",
       "      <td>110.42</td>\n",
       "      <td>liquid</td>\n",
       "      <td>3</td>\n",
       "      <td>NaN</td>\n",
       "      <td>butan-1-ol</td>\n",
       "      <td>74.073</td>\n",
       "      <td>3.140383</td>\n",
       "      <td>3.432248</td>\n",
       "      <td>256.079712</td>\n",
       "      <td>0.004223</td>\n",
       "      <td>2444.189697</td>\n",
       "      <td>0</td>\n",
       "      <td>5.159796</td>\n",
       "      <td>11928.853816</td>\n",
       "      <td>0.793308</td>\n",
       "      <td>0.290460</td>\n",
       "      <td>-12.221706</td>\n",
       "    </tr>\n",
       "    <tr>\n",
       "      <th>2</th>\n",
       "      <td>203.15</td>\n",
       "      <td>10000</td>\n",
       "      <td>112.45</td>\n",
       "      <td>liquid</td>\n",
       "      <td>3</td>\n",
       "      <td>NaN</td>\n",
       "      <td>butan-1-ol</td>\n",
       "      <td>74.073</td>\n",
       "      <td>3.140383</td>\n",
       "      <td>3.432248</td>\n",
       "      <td>256.079712</td>\n",
       "      <td>0.004223</td>\n",
       "      <td>2444.189697</td>\n",
       "      <td>0</td>\n",
       "      <td>5.159811</td>\n",
       "      <td>11928.887339</td>\n",
       "      <td>0.793308</td>\n",
       "      <td>0.290460</td>\n",
       "      <td>-12.221706</td>\n",
       "    </tr>\n",
       "    <tr>\n",
       "      <th>3</th>\n",
       "      <td>213.15</td>\n",
       "      <td>100</td>\n",
       "      <td>57.52</td>\n",
       "      <td>liquid</td>\n",
       "      <td>3</td>\n",
       "      <td>NaN</td>\n",
       "      <td>butan-1-ol</td>\n",
       "      <td>74.073</td>\n",
       "      <td>3.140383</td>\n",
       "      <td>3.432248</td>\n",
       "      <td>256.079712</td>\n",
       "      <td>0.004223</td>\n",
       "      <td>2444.189697</td>\n",
       "      <td>0</td>\n",
       "      <td>5.000669</td>\n",
       "      <td>11810.468094</td>\n",
       "      <td>0.832358</td>\n",
       "      <td>0.287577</td>\n",
       "      <td>-12.172179</td>\n",
       "    </tr>\n",
       "    <tr>\n",
       "      <th>4</th>\n",
       "      <td>213.15</td>\n",
       "      <td>5000</td>\n",
       "      <td>58.57</td>\n",
       "      <td>liquid</td>\n",
       "      <td>3</td>\n",
       "      <td>NaN</td>\n",
       "      <td>butan-1-ol</td>\n",
       "      <td>74.073</td>\n",
       "      <td>3.140383</td>\n",
       "      <td>3.432248</td>\n",
       "      <td>256.079712</td>\n",
       "      <td>0.004223</td>\n",
       "      <td>2444.189697</td>\n",
       "      <td>0</td>\n",
       "      <td>5.000684</td>\n",
       "      <td>11810.501570</td>\n",
       "      <td>0.832358</td>\n",
       "      <td>0.287578</td>\n",
       "      <td>-12.172179</td>\n",
       "    </tr>\n",
       "  </tbody>\n",
       "</table>\n",
       "</div>"
      ],
      "text/plain": [
       "   temperature  pressure  viscosity   state  Reference  density       names  \\\n",
       "0       203.15       100     109.00  liquid          3      NaN  butan-1-ol   \n",
       "1       203.15      5000     110.42  liquid          3      NaN  butan-1-ol   \n",
       "2       203.15     10000     112.45  liquid          3      NaN  butan-1-ol   \n",
       "3       213.15       100      57.52  liquid          3      NaN  butan-1-ol   \n",
       "4       213.15      5000      58.57  liquid          3      NaN  butan-1-ol   \n",
       "\n",
       "   molarweight         m     sigma   epsilon_k  kappa_ab  epsilon_k_ab  mu  \\\n",
       "0       74.073  3.140383  3.432248  256.079712  0.004223   2444.189697   0   \n",
       "1       74.073  3.140383  3.432248  256.079712  0.004223   2444.189697   0   \n",
       "2       74.073  3.140383  3.432248  256.079712  0.004223   2444.189697   0   \n",
       "3       74.073  3.140383  3.432248  256.079712  0.004223   2444.189697   0   \n",
       "4       74.073  3.140383  3.432248  256.079712  0.004223   2444.189697   0   \n",
       "\n",
       "   resd_entropy  molar_density  red_temperature  red_density  ln_eta_ref_new  \n",
       "0      5.159781   11928.820963         0.793308     0.290459      -12.221706  \n",
       "1      5.159796   11928.853816         0.793308     0.290460      -12.221706  \n",
       "2      5.159811   11928.887339         0.793308     0.290460      -12.221706  \n",
       "3      5.000669   11810.468094         0.832358     0.287577      -12.172179  \n",
       "4      5.000684   11810.501570         0.832358     0.287578      -12.172179  "
      ]
     },
     "execution_count": 3,
     "metadata": {},
     "output_type": "execute_result"
    }
   ],
   "source": [
    "data = pd.read_csv(\"demo_data/butanol_data.csv\")\n",
    "para_cols = ['molarweight', 'm','sigma', 'epsilon_k', 'kappa_ab','epsilon_k_ab','mu']\n",
    "for pcol in para_cols:\n",
    "    data[pcol] = saft[pcol].iloc[0]\n",
    "\n",
    "data = data.apply( get_resd_entropy , axis=1 )\n",
    "data = data.apply( get_CE_viscosity_reference_new , axis=1 )\n",
    "    \n",
    "data.head()"
   ]
  },
  {
   "cell_type": "markdown",
   "id": "f32c31e3",
   "metadata": {},
   "source": [
    "### Build and Load NN\n",
    "\n",
    "Finally we can build our NN model with the optimized hyperparmeters. Then we load and apply the model weights."
   ]
  },
  {
   "cell_type": "code",
   "execution_count": 4,
   "id": "945ccb16",
   "metadata": {},
   "outputs": [
    {
     "name": "stdout",
     "output_type": "stream",
     "text": [
      "[7, 50, 50, 6]\n",
      "[9, 12, 12, 1]\n",
      "\n",
      "paranet\n",
      "\n",
      "linear io 7 50\n",
      "batch_norm size 50\n",
      "relu\n",
      "linear io 50 50\n",
      "batch_norm size 50\n",
      "relu\n",
      "linear io 50 6\n",
      "\n",
      "refnet\n",
      "\n",
      "linear io 9 12\n",
      "batch_norm size 12\n",
      "relu\n",
      "linear io 12 12\n",
      "batch_norm size 12\n",
      "relu\n",
      "linear io 12 1\n"
     ]
    },
    {
     "data": {
      "text/plain": [
       "<All keys matched successfully>"
      ]
     },
     "execution_count": 4,
     "metadata": {},
     "output_type": "execute_result"
    }
   ],
   "source": [
    "model_path = \"model0/\"\n",
    "\n",
    "with open(model_path+'best_trained_model_paras.toml', 'r') as toml_file:\n",
    "    model_hyperparas = toml.load( toml_file)\n",
    "    \n",
    "with open(model_path+'train_val_test_norm.json', 'r') as json_file:\n",
    "    train_val_test_norm = json.load( json_file)    \n",
    "\n",
    "paranet_layer_units = [ int(model_hyperparas[\"paranet_layer_units\"]) ]* model_hyperparas[\"paranet_layer_no\"]\n",
    "refnet_layer_units  = [ int(model_hyperparas[\"refnet_layer_units\"]) ]* model_hyperparas[\"refnet_layer_no\"]    \n",
    "    \n",
    "model = DeepEntropyNet( 7, int(model_hyperparas[\"num_used_features\"]),   \n",
    "                 paranet_layer_units=paranet_layer_units,\n",
    "                 refnet_layer_units=refnet_layer_units,\n",
    "                 batch_norm=model_hyperparas[\"batch_norm\"],\n",
    "                 use_base=model_hyperparas[\"use_base\"] )    \n",
    "    \n",
    "model.load_state_dict(torch.load(model_path+\"/best_trained_model.state_dict\") ) #, map_location=device))"
   ]
  },
  {
   "cell_type": "markdown",
   "id": "23218a0f",
   "metadata": {},
   "source": [
    "### Build Dataset\n",
    "\n",
    "After loading the data we can generate the dataset used for predictions.\n",
    "Since the neural network operates with normalised inputs, the normalisation rules must be loaded and applied to the dataset. The polynomial features are also added. This all happens automatically."
   ]
  },
  {
   "cell_type": "code",
   "execution_count": 5,
   "id": "d604ccc0",
   "metadata": {},
   "outputs": [],
   "source": [
    "\n",
    "dataset = DeepEntropyDataset( data, train_val_test_norm, int(model_hyperparas[\"num_used_features\"])-1  )\n",
    "    "
   ]
  },
  {
   "cell_type": "markdown",
   "id": "ab69b97e",
   "metadata": {},
   "source": [
    "### Predict viscosities\n",
    "\n",
    "Now we can use the model to predict viscosities. The model predicts the normed log of the viscosity in milli pascal seconds (mPas)."
   ]
  },
  {
   "cell_type": "code",
   "execution_count": 6,
   "id": "084ff7c8",
   "metadata": {},
   "outputs": [],
   "source": [
    "y_pred = model(dataset.X_norm).detach().numpy()"
   ]
  },
  {
   "cell_type": "markdown",
   "id": "462bae40",
   "metadata": {},
   "source": [
    "### Compare Predictions with Experimental Results\n",
    "\n",
    "The predictions can be compared to experimental results. The experimental results units are pascal seconds (Pas). Therefore we need to multiply them by 1000 before we can compare them to the exponential of the predictions.\n",
    "\n",
    "#### Agreement between prediction and experiment is good.\n",
    "#### We want to point out that not even one butanol sample was used during model training. We look at predictions."
   ]
  },
  {
   "cell_type": "code",
   "execution_count": 7,
   "id": "86947f86",
   "metadata": {
    "scrolled": true
   },
   "outputs": [
    {
     "data": {
      "image/png": "[encoded data removed]",
      "text/plain": [
       "<Figure size 432x288 with 1 Axes>"
      ]
     },
     "metadata": {
      "needs_background": "light"
     },
     "output_type": "display_data"
    },
    {
     "data": {
      "image/png": "[encoded data removed]",
      "text/plain": [
       "<Figure size 432x288 with 1 Axes>"
      ]
     },
     "metadata": {
      "needs_background": "light"
     },
     "output_type": "display_data"
    },
    {
     "name": "stdout",
     "output_type": "stream",
     "text": [
      "MEAD:  9.2 %\n"
     ]
    },
    {
     "data": {
      "image/png": "[encoded data removed]",
      "text/plain": [
       "<Figure size 432x288 with 1 Axes>"
      ]
     },
     "metadata": {
      "needs_background": "light"
     },
     "output_type": "display_data"
    }
   ],
   "source": [
    "y  = np.squeeze( dataset.unormy(y_pred) )\n",
    "yy = np.exp( y )\n",
    "y_exp = data[\"viscosity\"]/1000\n",
    "\n",
    "plt.plot( data[\"temperature\"], np.log(y_exp), \"kx\", label=\"experimental\" )\n",
    "plt.plot( data[\"temperature\"], y, \".\", label=\"prediction\" )\n",
    "plt.legend()\n",
    "plt.xlabel(\"temperature / K\")\n",
    "plt.ylabel(\"ln( viscosity / MPas )\")\n",
    "plt.show()\n",
    "plt.close()\n",
    "\n",
    "plt.plot( data[\"temperature\"], y_exp, \"kx\", label=\"experimental\" )\n",
    "plt.plot( data[\"temperature\"], yy, \".\", label=\"prediction\" )\n",
    "plt.legend()\n",
    "plt.xlabel(\"temperature / K\")\n",
    "plt.ylabel(\"viscosity / MPas\")\n",
    "plt.show()\n",
    "plt.close()\n",
    "\n",
    "dev =   (yy-y_exp) / y_exp\n",
    "\n",
    "print(\"MEAD: \", round(np.mean( np.abs(dev) )*100,2), \"%\" )\n",
    "\n",
    "plt.plot(data[\"temperature\"], dev*100, \".\")\n",
    "plt.xlabel(\"temperature / K\")\n",
    "plt.ylabel(\"MEAD / %\")\n",
    "plt.show()\n",
    "plt.close()"
   ]
  },
  {
   "cell_type": "code",
   "execution_count": null,
   "id": "70a2b4a2",
   "metadata": {},
   "outputs": [],
   "source": []
  },
  {
   "cell_type": "code",
   "execution_count": null,
   "id": "134ab423",
   "metadata": {},
   "outputs": [],
   "source": []
  }
 ],
 "metadata": {
  "kernelspec": {
   "display_name": "Python 3 (ipykernel)",
   "language": "python",
   "name": "python3"
  },
  "language_info": {
   "codemirror_mode": {
    "name": "ipython",
    "version": 3
   },
   "file_extension": ".py",
   "mimetype": "text/x-python",
   "name": "python",
   "nbconvert_exporter": "python",
   "pygments_lexer": "ipython3",
   "version": "3.10.12"
  }
 },
 "nbformat": 4,
 "nbformat_minor": 5
}
