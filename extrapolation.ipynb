{
 "cells": [
  {
   "cell_type": "code",
   "execution_count": 5,
   "id": "67cd9d19",
   "metadata": {},
   "outputs": [],
   "source": [
    "import pandas as pd\n",
    "import numpy as np\n",
    "import matplotlib.pyplot as plt\n",
    "import json,toml\n",
    "\n",
    "from deep_entropy_scaling.deep_entropy_scaling import *"
   ]
  },
  {
   "cell_type": "code",
   "execution_count": 6,
   "id": "1640e8b0",
   "metadata": {},
   "outputs": [
    {
     "data": {
      "text/html": [
       "<div>\n",
       "<style scoped>\n",
       "    .dataframe tbody tr th:only-of-type {\n",
       "        vertical-align: middle;\n",
       "    }\n",
       "\n",
       "    .dataframe tbody tr th {\n",
       "        vertical-align: top;\n",
       "    }\n",
       "\n",
       "    .dataframe thead th {\n",
       "        text-align: right;\n",
       "    }\n",
       "</style>\n",
       "<table border=\"1\" class=\"dataframe\">\n",
       "  <thead>\n",
       "    <tr style=\"text-align: right;\">\n",
       "      <th></th>\n",
       "      <th>names</th>\n",
       "      <th>molarweight</th>\n",
       "      <th>m</th>\n",
       "      <th>sigma</th>\n",
       "      <th>epsilon_k</th>\n",
       "      <th>mu</th>\n",
       "      <th>kappa_ab</th>\n",
       "      <th>epsilon_k_ab</th>\n",
       "      <th>isomeric_smiles</th>\n",
       "    </tr>\n",
       "  </thead>\n",
       "  <tbody>\n",
       "    <tr>\n",
       "      <th>0</th>\n",
       "      <td>butan-1-ol</td>\n",
       "      <td>74.073</td>\n",
       "      <td>3.140383</td>\n",
       "      <td>3.432248</td>\n",
       "      <td>256.079712</td>\n",
       "      <td>0</td>\n",
       "      <td>0.004223</td>\n",
       "      <td>2444.189697</td>\n",
       "      <td>CCCCO</td>\n",
       "    </tr>\n",
       "  </tbody>\n",
       "</table>\n",
       "</div>"
      ],
      "text/plain": [
       "        names  molarweight         m     sigma   epsilon_k  mu  kappa_ab  \\\n",
       "0  butan-1-ol       74.073  3.140383  3.432248  256.079712   0  0.004223   \n",
       "\n",
       "   epsilon_k_ab isomeric_smiles  \n",
       "0   2444.189697           CCCCO  "
      ]
     },
     "execution_count": 6,
     "metadata": {},
     "output_type": "execute_result"
    }
   ],
   "source": [
    "saft = pd.read_csv( \"demo_data/saft_paras_demo.csv\" )\n",
    "saft"
   ]
  },
  {
   "cell_type": "code",
   "execution_count": 7,
   "id": "f17a53cb",
   "metadata": {},
   "outputs": [
    {
     "data": {
      "text/html": [
       "<div>\n",
       "<style scoped>\n",
       "    .dataframe tbody tr th:only-of-type {\n",
       "        vertical-align: middle;\n",
       "    }\n",
       "\n",
       "    .dataframe tbody tr th {\n",
       "        vertical-align: top;\n",
       "    }\n",
       "\n",
       "    .dataframe thead th {\n",
       "        text-align: right;\n",
       "    }\n",
       "</style>\n",
       "<table border=\"1\" class=\"dataframe\">\n",
       "  <thead>\n",
       "    <tr style=\"text-align: right;\">\n",
       "      <th></th>\n",
       "      <th>temperature</th>\n",
       "      <th>pressure</th>\n",
       "      <th>state</th>\n",
       "      <th>molarweight</th>\n",
       "      <th>m</th>\n",
       "      <th>sigma</th>\n",
       "      <th>epsilon_k</th>\n",
       "      <th>kappa_ab</th>\n",
       "      <th>epsilon_k_ab</th>\n",
       "      <th>mu</th>\n",
       "      <th>resd_entropy</th>\n",
       "      <th>molar_density</th>\n",
       "      <th>red_temperature</th>\n",
       "      <th>red_density</th>\n",
       "      <th>ln_eta_ref_new</th>\n",
       "    </tr>\n",
       "  </thead>\n",
       "  <tbody>\n",
       "    <tr>\n",
       "      <th>0</th>\n",
       "      <td>80.540000</td>\n",
       "      <td>10000.0</td>\n",
       "      <td>liquid</td>\n",
       "      <td>74.073</td>\n",
       "      <td>3.140383</td>\n",
       "      <td>3.432248</td>\n",
       "      <td>256.079712</td>\n",
       "      <td>0.004223</td>\n",
       "      <td>2444.189697</td>\n",
       "      <td>0</td>\n",
       "      <td>8.074437</td>\n",
       "      <td>14448.698257</td>\n",
       "      <td>0.314511</td>\n",
       "      <td>0.351816</td>\n",
       "      <td>-13.125569</td>\n",
       "    </tr>\n",
       "    <tr>\n",
       "      <th>1</th>\n",
       "      <td>99.985263</td>\n",
       "      <td>10000.0</td>\n",
       "      <td>liquid</td>\n",
       "      <td>74.073</td>\n",
       "      <td>3.140383</td>\n",
       "      <td>3.432248</td>\n",
       "      <td>256.079712</td>\n",
       "      <td>0.004223</td>\n",
       "      <td>2444.189697</td>\n",
       "      <td>0</td>\n",
       "      <td>7.266018</td>\n",
       "      <td>13608.668532</td>\n",
       "      <td>0.390446</td>\n",
       "      <td>0.331362</td>\n",
       "      <td>-12.928944</td>\n",
       "    </tr>\n",
       "    <tr>\n",
       "      <th>2</th>\n",
       "      <td>119.430526</td>\n",
       "      <td>10000.0</td>\n",
       "      <td>liquid</td>\n",
       "      <td>74.073</td>\n",
       "      <td>3.140383</td>\n",
       "      <td>3.432248</td>\n",
       "      <td>256.079712</td>\n",
       "      <td>0.004223</td>\n",
       "      <td>2444.189697</td>\n",
       "      <td>0</td>\n",
       "      <td>6.741373</td>\n",
       "      <td>13177.520399</td>\n",
       "      <td>0.466380</td>\n",
       "      <td>0.320864</td>\n",
       "      <td>-12.759319</td>\n",
       "    </tr>\n",
       "    <tr>\n",
       "      <th>3</th>\n",
       "      <td>138.875789</td>\n",
       "      <td>10000.0</td>\n",
       "      <td>liquid</td>\n",
       "      <td>74.073</td>\n",
       "      <td>3.140383</td>\n",
       "      <td>3.432248</td>\n",
       "      <td>256.079712</td>\n",
       "      <td>0.004223</td>\n",
       "      <td>2444.189697</td>\n",
       "      <td>0</td>\n",
       "      <td>6.304945</td>\n",
       "      <td>12826.467507</td>\n",
       "      <td>0.542315</td>\n",
       "      <td>0.312316</td>\n",
       "      <td>-12.610445</td>\n",
       "    </tr>\n",
       "    <tr>\n",
       "      <th>4</th>\n",
       "      <td>158.321053</td>\n",
       "      <td>10000.0</td>\n",
       "      <td>liquid</td>\n",
       "      <td>74.073</td>\n",
       "      <td>3.140383</td>\n",
       "      <td>3.432248</td>\n",
       "      <td>256.079712</td>\n",
       "      <td>0.004223</td>\n",
       "      <td>2444.189697</td>\n",
       "      <td>0</td>\n",
       "      <td>5.923793</td>\n",
       "      <td>12521.710341</td>\n",
       "      <td>0.618249</td>\n",
       "      <td>0.304895</td>\n",
       "      <td>-12.478296</td>\n",
       "    </tr>\n",
       "  </tbody>\n",
       "</table>\n",
       "</div>"
      ],
      "text/plain": [
       "   temperature  pressure   state  molarweight         m     sigma   epsilon_k  \\\n",
       "0    80.540000   10000.0  liquid       74.073  3.140383  3.432248  256.079712   \n",
       "1    99.985263   10000.0  liquid       74.073  3.140383  3.432248  256.079712   \n",
       "2   119.430526   10000.0  liquid       74.073  3.140383  3.432248  256.079712   \n",
       "3   138.875789   10000.0  liquid       74.073  3.140383  3.432248  256.079712   \n",
       "4   158.321053   10000.0  liquid       74.073  3.140383  3.432248  256.079712   \n",
       "\n",
       "   kappa_ab  epsilon_k_ab  mu  resd_entropy  molar_density  red_temperature  \\\n",
       "0  0.004223   2444.189697   0      8.074437   14448.698257         0.314511   \n",
       "1  0.004223   2444.189697   0      7.266018   13608.668532         0.390446   \n",
       "2  0.004223   2444.189697   0      6.741373   13177.520399         0.466380   \n",
       "3  0.004223   2444.189697   0      6.304945   12826.467507         0.542315   \n",
       "4  0.004223   2444.189697   0      5.923793   12521.710341         0.618249   \n",
       "\n",
       "   red_density  ln_eta_ref_new  \n",
       "0     0.351816      -13.125569  \n",
       "1     0.331362      -12.928944  \n",
       "2     0.320864      -12.759319  \n",
       "3     0.312316      -12.610445  \n",
       "4     0.304895      -12.478296  "
      ]
     },
     "execution_count": 7,
     "metadata": {},
     "output_type": "execute_result"
    }
   ],
   "source": [
    "sample_no = 20\n",
    "\n",
    "# triple point temperature butanol: 184.54 K\n",
    "data = {\n",
    "    \"temperature\": np.linspace(80.54,450,sample_no),\n",
    "    \"pressure\": np.ones(sample_no)*1e4,\n",
    "    \"state\": [\"liquid\"]*sample_no,\n",
    "}\n",
    "data=pd.DataFrame(data)\n",
    "\n",
    "para_cols = ['molarweight', 'm','sigma', 'epsilon_k', 'kappa_ab','epsilon_k_ab','mu']\n",
    "for pcol in para_cols:\n",
    "    data[pcol] = saft[pcol].iloc[0]\n",
    "\n",
    "data = data.apply( get_resd_entropy , axis=1 )\n",
    "data = data.apply( get_CE_viscosity_reference_new , axis=1 )\n",
    "    \n",
    "data.head()"
   ]
  },
  {
   "cell_type": "code",
   "execution_count": 8,
   "id": "5b1d0fb9",
   "metadata": {},
   "outputs": [
    {
     "name": "stdout",
     "output_type": "stream",
     "text": [
      "[7, 50, 50, 6]\n",
      "[9, 12, 12, 1]\n",
      "\n",
      "paranet\n",
      "\n",
      "linear io 7 50\n",
      "batch_norm size 50\n",
      "relu\n",
      "linear io 50 50\n",
      "batch_norm size 50\n",
      "relu\n",
      "linear io 50 6\n",
      "\n",
      "refnet\n",
      "\n",
      "linear io 9 12\n",
      "batch_norm size 12\n",
      "relu\n",
      "linear io 12 12\n",
      "batch_norm size 12\n",
      "relu\n",
      "linear io 12 1\n"
     ]
    },
    {
     "data": {
      "text/plain": [
       "<All keys matched successfully>"
      ]
     },
     "execution_count": 8,
     "metadata": {},
     "output_type": "execute_result"
    }
   ],
   "source": [
    "model_path = \"model0/\"\n",
    "\n",
    "with open(model_path+'best_trained_model_paras.toml', 'r') as toml_file:\n",
    "    model_hyperparas = toml.load( toml_file)\n",
    "    \n",
    "with open(model_path+'train_val_test_norm.json', 'r') as json_file:\n",
    "    train_val_test_norm = json.load( json_file)    \n",
    "\n",
    "paranet_layer_units = [ int(model_hyperparas[\"paranet_layer_units\"]) ]* model_hyperparas[\"paranet_layer_no\"]\n",
    "refnet_layer_units  = [ int(model_hyperparas[\"refnet_layer_units\"]) ]* model_hyperparas[\"refnet_layer_no\"]    \n",
    "    \n",
    "model = DeepEntropyNet( 7, int(model_hyperparas[\"num_used_features\"]),   \n",
    "                 num_used_features=int(model_hyperparas[\"num_used_features\"]), \n",
    "                 paranet_layer_units=paranet_layer_units,\n",
    "                 refnet_layer_units=refnet_layer_units,\n",
    "                 batch_norm=model_hyperparas[\"batch_norm\"],\n",
    "                 use_base=model_hyperparas[\"use_base\"] )    \n",
    "    \n",
    "model.load_state_dict(torch.load(model_path+\"/best_trained_model.state_dict\") ) #, map_location=device))"
   ]
  },
  {
   "cell_type": "code",
   "execution_count": 9,
   "id": "7a4398d0",
   "metadata": {},
   "outputs": [],
   "source": [
    "\n",
    "dataset = DeepEntropyDataset( data, train_val_test_norm, int(model_hyperparas[\"num_used_features\"])-1  )\n",
    "    "
   ]
  },
  {
   "cell_type": "code",
   "execution_count": 10,
   "id": "e98d7243",
   "metadata": {},
   "outputs": [],
   "source": [
    "y_pred = model(dataset.X_norm).detach().numpy()"
   ]
  },
  {
   "cell_type": "code",
   "execution_count": 11,
   "id": "5e33566e",
   "metadata": {},
   "outputs": [],
   "source": [
    "experimental_data = pd.read_csv(\"demo_data/butanol_data.csv\")\n",
    "experimental_data[\"viscosity\"] = experimental_data[\"viscosity\"]/1000\n",
    "\n",
    "para_cols = ['molarweight', 'm','sigma', 'epsilon_k', 'kappa_ab','epsilon_k_ab','mu']\n",
    "for pcol in para_cols:\n",
    "    experimental_data[pcol] = saft[pcol].iloc[0]\n",
    "\n",
    "experimental_data = experimental_data.apply( get_resd_entropy , axis=1 )\n",
    "experimental_data = experimental_data.apply( get_CE_viscosity_reference_new , axis=1 )\n"
   ]
  },
  {
   "cell_type": "code",
   "execution_count": 12,
   "id": "087009a6",
   "metadata": {},
   "outputs": [
    {
     "data": {
      "image/png": "[encoded data removed]",
      "text/plain": [
       "<Figure size 432x288 with 1 Axes>"
      ]
     },
     "metadata": {
      "needs_background": "light"
     },
     "output_type": "display_data"
    },
    {
     "data": {
      "image/png": "[encoded data removed]",
      "text/plain": [
       "<Figure size 432x288 with 1 Axes>"
      ]
     },
     "metadata": {
      "needs_background": "light"
     },
     "output_type": "display_data"
    }
   ],
   "source": [
    "y  = np.squeeze( dataset.unormy(y_pred) )\n",
    "yy = np.exp( y )\n",
    "y_exp = experimental_data[\"viscosity\"]\n",
    "\n",
    "plt.plot( experimental_data[\"resd_entropy\"], np.log(y_exp), \"kx\", label=\"experimental\" )\n",
    "plt.plot( data[\"resd_entropy\"], y, \".\", label=\"prediction\" )\n",
    "plt.legend()\n",
    "plt.xlabel(\"residual entropy\")\n",
    "plt.ylabel(\"ln( viscosity / MPas )\")\n",
    "plt.show()\n",
    "plt.close()\n",
    "\n",
    "y_exp_2  = np.log( y_exp )- experimental_data[\"ln_eta_ref_new\"]\n",
    "y_2     = y - data[\"ln_eta_ref_new\"]\n",
    "\n",
    "plt.plot( experimental_data[\"resd_entropy\"], y_exp_2, \"kx\", label=\"experimental\" )\n",
    "plt.plot( data[\"resd_entropy\"], y_2, \".\", label=\"prediction\" )\n",
    "plt.legend()\n",
    "plt.xlabel(\"residual entropy\")\n",
    "plt.ylabel(r\"ln( $\\eta$* )\")\n",
    "plt.show()\n",
    "plt.close()\n",
    "\n"
   ]
  },
  {
   "cell_type": "code",
   "execution_count": null,
   "id": "d4d49fce",
   "metadata": {},
   "outputs": [],
   "source": []
  },
  {
   "cell_type": "code",
   "execution_count": null,
   "id": "d8853dd5",
   "metadata": {},
   "outputs": [],
   "source": []
  }
 ],
 "metadata": {
  "kernelspec": {
   "display_name": "Python 3 (ipykernel)",
   "language": "python",
   "name": "python3"
  },
  "language_info": {
   "codemirror_mode": {
    "name": "ipython",
    "version": 3
   },
   "file_extension": ".py",
   "mimetype": "text/x-python",
   "name": "python",
   "nbconvert_exporter": "python",
   "pygments_lexer": "ipython3",
   "version": "3.10.12"
  }
 },
 "nbformat": 4,
 "nbformat_minor": 5
}
